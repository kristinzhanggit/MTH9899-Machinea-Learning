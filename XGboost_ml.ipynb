{
 "cells": [
  {
   "cell_type": "code",
   "execution_count": 1,
   "metadata": {
    "collapsed": false
   },
   "outputs": [
    {
     "name": "stderr",
     "output_type": "stream",
     "text": [
      "/Users/wenlidong/anaconda/lib/python3.6/site-packages/sklearn/cross_validation.py:44: DeprecationWarning: This module was deprecated in version 0.18 in favor of the model_selection module into which all the refactored classes and functions are moved. Also note that the interface of the new CV iterators are different from that of this module. This module will be removed in 0.20.\n",
      "  \"This module will be removed in 0.20.\", DeprecationWarning)\n",
      "/Users/wenlidong/anaconda/lib/python3.6/site-packages/sklearn/grid_search.py:43: DeprecationWarning: This module was deprecated in version 0.18 in favor of the model_selection module into which all the refactored classes and functions are moved. This module will be removed in 0.20.\n",
      "  DeprecationWarning)\n"
     ]
    }
   ],
   "source": [
    "import numpy as np\n",
    "import pandas as pd\n",
    "from sklearn.feature_selection import SelectFromModel\n",
    "from sklearn.linear_model import LassoCV\n",
    "import matplotlib.pyplot as plt\n",
    "import xgboost as xgb\n",
    "from sklearn import linear_model\n",
    "from sklearn.metrics import r2_score\n",
    "from sklearn.grid_search import GridSearchCV\n",
    "\n",
    "data = pd.read_pickle('ml_finalproj_train_vF.pkl')"
   ]
  },
  {
   "cell_type": "code",
   "execution_count": 2,
   "metadata": {
    "collapsed": false
   },
   "outputs": [],
   "source": [
    "X_all = data.drop(['weight','y'],axis = 1)\n",
    "Y = data['y']\n",
    "weight = data['weight']\n",
    "\n",
    "def Normalize(data):\n",
    "    for col in data.columns.values:\n",
    "        data[col]=(data[col]-np.mean(data[col]))/np.std(data[col])\n",
    "    return data\n",
    "X_norm = Normalize(X_all)\n",
    "\n",
    "def feature_selection(X_norm, Y, data):\n",
    "    alpha = np.array([0.00002,0.00003,0.00001])\n",
    "    clf = LassoCV(alphas=alpha)\n",
    "    sfm = SelectFromModel(clf,threshold=0.000025)\n",
    "    sfm.fit(X_norm, Y)\n",
    "    X_selected = X_norm.columns.values[sfm.get_support()]\n",
    "    X = pd.concat([data[X_selected[0]],data[X_selected[1]]],axis = 1)\n",
    "    for i in range(2,len(X_selected)):\n",
    "        X = pd.concat([X,data[X_selected[i]]],axis = 1)\n",
    "    return X\n",
    "X_selected = feature_selection(X_norm,Y, X_all)\n",
    "    \n"
   ]
  },
  {
   "cell_type": "code",
   "execution_count": 3,
   "metadata": {
    "collapsed": false
   },
   "outputs": [],
   "source": [
    "def data_split(X, Y, weight, train_frac):\n",
    "    index = int(len(Y)*train_frac)\n",
    "    return X[0:index],Y[0:index],weight[0:index],X[index+1:],Y[index+1:],weight[index+1:]\n",
    "\n",
    "X_train, Y_train, weight_train, X_test, Y_test, weight_test = data_split(X_selected,Y,weight,4/5)\n"
   ]
  },
  {
   "cell_type": "code",
   "execution_count": 4,
   "metadata": {
    "collapsed": false
   },
   "outputs": [],
   "source": [
    "def test_param(param,param_name,param_list, X_train, Y_train, weight_train, X_test, Y_test, weight_test):\n",
    "    data_train = xgb.DMatrix(X_train, label=Y_train,weight =weight_train)\n",
    "    for i in param_list:\n",
    "        param[param_name] = i\n",
    "        model = xgb.train(params=param, dtrain=data_train, num_boost_round=10)\n",
    "        Y_pred_test = model.predict(xgb.DMatrix(X_test))\n",
    "        Y_pred_train = model.predict(xgb.DMatrix(X_train))\n",
    "        print('{} :{}, R2_outofsample :{}, R2_insample: {}'.format(param_name,i, r2_score(Y_test,Y_pred_test,weight_test), r2_score(Y_train, Y_pred_train,weight_train ) ))\n",
    "\n",
    "# min_child_weight, alpha, gamma, lambda have no influence\n",
    "# max_depth = 2\n",
    "    \n",
    "    "
   ]
  },
  {
   "cell_type": "code",
   "execution_count": 5,
   "metadata": {
    "collapsed": false
   },
   "outputs": [
    {
     "name": "stdout",
     "output_type": "stream",
     "text": [
      "max_depth :2, R2_outofsample :-0.06986852122018994, R2_insample: 0.008804364992566316\n",
      "max_depth :3, R2_outofsample :-0.24628118653583098, R2_insample: 0.015091169838153284\n",
      "max_depth :4, R2_outofsample :-0.27615906790190725, R2_insample: 0.022648744127704123\n",
      "max_depth :6, R2_outofsample :-0.5132758246869185, R2_insample: 0.04784573459195374\n",
      "max_depth :8, R2_outofsample :-0.7784434791758914, R2_insample: 0.09257697094749939\n"
     ]
    }
   ],
   "source": [
    "param1 = {\n",
    "    'objective'          :'reg:linear',\n",
    "    'max_depth'          :6,\n",
    "    'eta'                :0.3,\n",
    "    'gamma'              :0,\n",
    "    'min_child_weight'   :1,\n",
    "    'subsample'          :1,\n",
    "    'colsample_bytree'   :1,\n",
    "    'alpha'              :0,\n",
    "    'lambda'             :1,\n",
    "    'base_score'         :np.mean(Y_train)\n",
    "}\n",
    "\n",
    "max_depths = [2,3,4,6,8]\n",
    "test_param(param1,'max_depth',max_depths, X_train, Y_train, weight_train, X_test, Y_test, weight_test)"
   ]
  },
  {
   "cell_type": "code",
   "execution_count": 6,
   "metadata": {
    "collapsed": false
   },
   "outputs": [
    {
     "name": "stdout",
     "output_type": "stream",
     "text": [
      "min_child_weight :1, R2_outofsample :-0.06986852122018994, R2_insample: 0.008804364992566316\n",
      "min_child_weight :20, R2_outofsample :-0.06986852122018994, R2_insample: 0.008804364992566316\n",
      "min_child_weight :50, R2_outofsample :-0.06986852122018994, R2_insample: 0.008804364992566316\n",
      "min_child_weight :100, R2_outofsample :-0.06986852122018994, R2_insample: 0.008804364992566316\n",
      "min_child_weight :200, R2_outofsample :-0.06986852122018994, R2_insample: 0.008804364992566316\n"
     ]
    }
   ],
   "source": [
    "param2 = {\n",
    "    'objective'          :'reg:linear',\n",
    "    'max_depth'          :2,\n",
    "    'eta'                :0.3,\n",
    "    'gamma'              :0,\n",
    "    'min_child_weight'   :1,\n",
    "    'subsample'          :1,\n",
    "    'colsample_bytree'   :1,\n",
    "    'alpha'              :0,\n",
    "    'lambda'             :1,\n",
    "    'base_score'         :np.mean(Y_train)\n",
    "}\n",
    "min_child_weights = [1, 20, 50, 100, 200]\n",
    "test_param(param2,'min_child_weight',min_child_weights, X_train, Y_train, weight_train, X_test, Y_test, weight_test)"
   ]
  },
  {
   "cell_type": "code",
   "execution_count": 7,
   "metadata": {
    "collapsed": false
   },
   "outputs": [
    {
     "name": "stdout",
     "output_type": "stream",
     "text": [
      "gamma :0.2, R2_outofsample :-0.06986852122018994, R2_insample: 0.008804364992566316\n",
      "gamma :0.4, R2_outofsample :-0.06986852122018994, R2_insample: 0.008804364992566316\n",
      "gamma :0.6, R2_outofsample :-0.06986852122018994, R2_insample: 0.008804364992566316\n",
      "gamma :0.8, R2_outofsample :-0.06986852122018994, R2_insample: 0.008804364992566316\n"
     ]
    }
   ],
   "source": [
    "param3 = {\n",
    "    'objective'          :'reg:linear',\n",
    "    'max_depth'          :2,\n",
    "    'eta'                :0.3,\n",
    "    'gamma'              :0,\n",
    "    'min_child_weight'   :1,\n",
    "    'subsample'          :1,\n",
    "    'colsample_bytree'   :1,\n",
    "    'alpha'              :0,\n",
    "    'lambda'             :1,\n",
    "    'base_score'         :np.mean(Y_train)\n",
    "}\n",
    "\n",
    "gammas = [0.2,0.4,0.6,0.8]\n",
    "test_param(param3,'gamma',gammas, X_train, Y_train, weight_train, X_test, Y_test, weight_test)"
   ]
  },
  {
   "cell_type": "code",
   "execution_count": 10,
   "metadata": {
    "collapsed": false
   },
   "outputs": [
    {
     "name": "stdout",
     "output_type": "stream",
     "text": [
      "subsample :0.9, R2_outofsample :-0.12450371269895122, R2_insample: 0.008954268990161163\n",
      "subsample :0.95, R2_outofsample :-0.09243507261011552, R2_insample: 0.0085624753484973\n",
      "subsample :1, R2_outofsample :-0.06986852122018994, R2_insample: 0.008804364992566316\n"
     ]
    }
   ],
   "source": [
    "param4 = {\n",
    "    'objective'          :'reg:linear',\n",
    "    'max_depth'          :2,\n",
    "    'eta'                :0.3,\n",
    "    'gamma'              :0,\n",
    "    'min_child_weight'   :1,\n",
    "    'subsample'          :1,\n",
    "    'colsample_bytree'   :1,\n",
    "    'alpha'              :0,\n",
    "    'lambda'             :1,\n",
    "    'base_score'         :np.mean(Y_train)\n",
    "}\n",
    "\n",
    "subsamples = [0.9,0.95,1]\n",
    "test_param(param4,'subsample',subsamples, X_train, Y_train, weight_train, X_test, Y_test, weight_test)"
   ]
  },
  {
   "cell_type": "code",
   "execution_count": 13,
   "metadata": {
    "collapsed": false
   },
   "outputs": [
    {
     "name": "stdout",
     "output_type": "stream",
     "text": [
      "colsample_bytree :0.5, R2_outofsample :-0.01360662956811498, R2_insample: 0.007058049231864816\n",
      "colsample_bytree :0.5, R2_outofsample :-0.01360662956811498, R2_insample: 0.007058049231864816\n",
      "colsample_bytree :0.55, R2_outofsample :-0.012106156054300987, R2_insample: 0.00751810738042602\n",
      "colsample_bytree :0.6, R2_outofsample :-0.013539708073106116, R2_insample: 0.007926859698016875\n"
     ]
    }
   ],
   "source": [
    "param5 = {\n",
    "    'objective'          :'reg:linear',\n",
    "    'max_depth'          :2,\n",
    "    'eta'                :0.3,\n",
    "    'gamma'              :0,\n",
    "    'min_child_weight'   :1,\n",
    "    'subsample'          :1,\n",
    "    'colsample_bytree'   :1,\n",
    "    'alpha'              :0,\n",
    "    'lambda'             :1,\n",
    "    'base_score'         :np.mean(Y_train)\n",
    "}\n",
    "\n",
    "colsample_bytrees=[0.5,0.5,0.55,0.6]\n",
    "test_param(param5,'colsample_bytree',colsample_bytrees, X_train, Y_train, weight_train, X_test, Y_test, weight_test)"
   ]
  },
  {
   "cell_type": "code",
   "execution_count": 14,
   "metadata": {
    "collapsed": false
   },
   "outputs": [
    {
     "name": "stdout",
     "output_type": "stream",
     "text": [
      "alpha :1e-05, R2_outofsample :-0.012106156054300987, R2_insample: 0.00751810738042602\n",
      "alpha :0.01, R2_outofsample :-0.012106156045035732, R2_insample: 0.007518107383351458\n",
      "alpha :0.1, R2_outofsample :-0.012106155879013869, R2_insample: 0.007518107306146771\n",
      "alpha :1, R2_outofsample :-0.012106150267647386, R2_insample: 0.0075181069191639915\n",
      "alpha :100, R2_outofsample :-0.012105565135511087, R2_insample: 0.0075180670881126455\n"
     ]
    }
   ],
   "source": [
    "param6 = {\n",
    "    'objective'          :'reg:linear',\n",
    "    'max_depth'          :2,\n",
    "    'eta'                :0.3,\n",
    "    'gamma'              :0,\n",
    "    'min_child_weight'   :1,\n",
    "    'subsample'          :1,\n",
    "    'colsample_bytree'   :0.55,\n",
    "    'alpha'              :0,\n",
    "    'lambda'             :1,\n",
    "    'base_score'         :np.mean(Y_train)\n",
    "}\n",
    "\n",
    "alphas = [1e-5, 1e-2, 0.1, 1, 100]\n",
    "test_param(param6,'alpha',alphas, X_train, Y_train, weight_train, X_test, Y_test, weight_test)"
   ]
  },
  {
   "cell_type": "code",
   "execution_count": 16,
   "metadata": {
    "collapsed": false
   },
   "outputs": [
    {
     "name": "stdout",
     "output_type": "stream",
     "text": [
      "lambda :1e-05, R2_outofsample :-0.012105565135511087, R2_insample: 0.0075180670881126455\n",
      "lambda :0.01, R2_outofsample :-0.012105565135511087, R2_insample: 0.0075180670881126455\n",
      "lambda :0.1, R2_outofsample :-0.012105565135511087, R2_insample: 0.0075180670881126455\n",
      "lambda :1, R2_outofsample :-0.012105565135511087, R2_insample: 0.0075180670881126455\n",
      "lambda :100, R2_outofsample :-0.012105563519744011, R2_insample: 0.007518066660217704\n"
     ]
    }
   ],
   "source": [
    "param7 = {\n",
    "    'objective'          :'reg:linear',\n",
    "    'max_depth'          :2,\n",
    "    'eta'                :0.3,\n",
    "    'gamma'              :0,\n",
    "    'min_child_weight'   :1,\n",
    "    'subsample'          :1,\n",
    "    'colsample_bytree'   :0.55,\n",
    "    'alpha'              :0,\n",
    "    'lambda'             :1,\n",
    "    'base_score'         :np.mean(Y_train)\n",
    "}\n",
    "\n",
    "lambdas = [1e-5, 1e-2, 0.1, 1, 100]\n",
    "test_param(param6,'lambda',lambdas, X_train, Y_train, weight_train, X_test, Y_test, weight_test)"
   ]
  },
  {
   "cell_type": "code",
   "execution_count": 37,
   "metadata": {
    "collapsed": false
   },
   "outputs": [
    {
     "name": "stdout",
     "output_type": "stream",
     "text": [
      "eta: 0.01, num_boost_round :30, R2_outofsample :-5.855333343429692e-05, R2_insample: 0.0014939802671741775\n",
      "eta: 0.01, num_boost_round :32, R2_outofsample :9.432840054168778e-05, R2_insample: 0.0016556957576743248\n",
      "eta: 0.01, num_boost_round :36, R2_outofsample :0.00013559345354818841, R2_insample: 0.0018365260514672244\n",
      "eta: 0.01, num_boost_round :40, R2_outofsample :0.0001239432276725072, R2_insample: 0.0020661043302817594\n",
      "eta: 0.01, num_boost_round :44, R2_outofsample :2.156142733600319e-05, R2_insample: 0.0022743094785320217\n",
      "eta: 0.01, num_boost_round :48, R2_outofsample :-0.00020227933289795885, R2_insample: 0.0024761473806974577\n",
      "eta: 0.01, num_boost_round :52, R2_outofsample :-0.00036889042806653727, R2_insample: 0.002703109856539987\n",
      "eta: 0.008, num_boost_round :30, R2_outofsample :-6.669229482092476e-05, R2_insample: 0.0012109009514790214\n",
      "eta: 0.008, num_boost_round :32, R2_outofsample :8.016540224975444e-05, R2_insample: 0.0013235927589041463\n",
      "eta: 0.008, num_boost_round :36, R2_outofsample :8.659001061706029e-05, R2_insample: 0.0014655615601554262\n",
      "eta: 0.008, num_boost_round :40, R2_outofsample :0.00022478383096424803, R2_insample: 0.0016725565397176512\n",
      "eta: 0.008, num_boost_round :44, R2_outofsample :0.00022992434379565108, R2_insample: 0.0018512474643839205\n",
      "eta: 0.008, num_boost_round :48, R2_outofsample :0.00014413838709392834, R2_insample: 0.0020259810522954558\n",
      "eta: 0.008, num_boost_round :52, R2_outofsample :3.443358634314109e-05, R2_insample: 0.0022239644152849403\n",
      "eta: 0.007, num_boost_round :30, R2_outofsample :-7.098816181394518e-05, R2_insample: 0.0010718642796180289\n",
      "eta: 0.007, num_boost_round :32, R2_outofsample :7.057604849824983e-05, R2_insample: 0.0011733237304024646\n",
      "eta: 0.007, num_boost_round :36, R2_outofsample :7.128995651461967e-05, R2_insample: 0.0012903446104327587\n",
      "eta: 0.007, num_boost_round :40, R2_outofsample :0.0002165694038307464, R2_insample: 0.00145744817655713\n",
      "eta: 0.007, num_boost_round :44, R2_outofsample :0.0002680255973043222, R2_insample: 0.0016294912214659396\n",
      "eta: 0.007, num_boost_round :48, R2_outofsample :0.0002440679884461172, R2_insample: 0.0017877788417310914\n",
      "eta: 0.007, num_boost_round :52, R2_outofsample :0.00020000338580228316, R2_insample: 0.0019680368581000973\n",
      "eta: 0.006, num_boost_round :30, R2_outofsample :-8.395469168043235e-05, R2_insample: 0.0009294172290224001\n",
      "eta: 0.006, num_boost_round :32, R2_outofsample :4.91448681818607e-05, R2_insample: 0.0010189494875607608\n",
      "eta: 0.006, num_boost_round :36, R2_outofsample :5.683717536086874e-05, R2_insample: 0.0011220388077048948\n",
      "eta: 0.006, num_boost_round :40, R2_outofsample :0.00020037422630603263, R2_insample: 0.0012610065621329047\n",
      "eta: 0.006, num_boost_round :44, R2_outofsample :0.00023228657382046158, R2_insample: 0.0013971144875774\n",
      "eta: 0.006, num_boost_round :48, R2_outofsample :0.0002322581510871835, R2_insample: 0.0015394118362671572\n",
      "eta: 0.006, num_boost_round :52, R2_outofsample :0.00019375036306645832, R2_insample: 0.0017021695606093123\n"
     ]
    }
   ],
   "source": [
    "def test_eta(param,eta_list,numround_list, X_train, Y_train, weight_train, X_test, Y_test, weight_test):\n",
    "    data_train = xgb.DMatrix(X_train, label=Y_train,weight =weight_train)\n",
    "    for i in range(len(eta_list)):\n",
    "        param['eta'] = eta_list[i]\n",
    "        for j in range(len(numround_list)):\n",
    "            model = xgb.train(params=param, dtrain=data_train, num_boost_round=numround_list[j])\n",
    "            Y_pred_test = model.predict(xgb.DMatrix(X_test))\n",
    "            Y_pred_train = model.predict(xgb.DMatrix(X_train))\n",
    "            print('eta: {}, num_boost_round :{}, R2_outofsample :{}, R2_insample: {}'.format(eta_list[i],numround_list[j], r2_score(Y_test,Y_pred_test,weight_test), r2_score(Y_train, Y_pred_train,weight_train ) ))\n",
    "\n",
    "param8 = {\n",
    "    'objective'          :'reg:linear',\n",
    "    'max_depth'          :2,\n",
    "    'eta'                :0.3,\n",
    "    'gamma'              :0,\n",
    "    'min_child_weight'   :1,\n",
    "    'subsample'          :1,\n",
    "    'colsample_bytree'   :0.55,\n",
    "    'alpha'              :0,\n",
    "    'lambda'             :1,\n",
    "    'base_score'         :np.mean(Y_train)\n",
    "}\n",
    "#eta = 0.2, num_boost_round = 14\n",
    "#eta = 0.22, num_boost_round = 16\n",
    "# split:4/5,eta=0.008,num_boost_round = 40 \n",
    "#[0.3,0.25,0.2,0.15,0.1,0.05]\n",
    "#[10,15,20,25,30,35]\n",
    "etas = [0.01,0.008,0.007,0.006]\n",
    "num_rounds = [30,32,36,40,44,48,52]\n",
    "test_eta(param8,etas,num_rounds, X_train, Y_train, weight_train, X_test, Y_test, weight_test)"
   ]
  },
  {
   "cell_type": "code",
   "execution_count": 45,
   "metadata": {
    "collapsed": false
   },
   "outputs": [
    {
     "name": "stdout",
     "output_type": "stream",
     "text": [
      " R2_outofsample :0.00022478383096424803, R2_insample: 0.0016725565397176512\n"
     ]
    }
   ],
   "source": [
    "\n",
    "X1_train, Y1_train, weight1_train, X1_test, Y1_test, weight1_test = data_split(X_selected,Y,weight,4/5)\n",
    "param_final = {\n",
    "    'objective'          :'reg:linear',\n",
    "    'max_depth'          :2,\n",
    "    'eta'                :0.008,\n",
    "    'gamma'              :0,\n",
    "    'min_child_weight'   :1,\n",
    "    'subsample'          :1,\n",
    "    'colsample_bytree'   :0.55,\n",
    "    'alpha'              :0,\n",
    "    'lambda'             :1,\n",
    "    'base_score'         :np.mean(Y1_train)\n",
    "}\n",
    "\n",
    "\n",
    "data_train1 = xgb.DMatrix(X1_train, label=Y1_train,weight =weight1_train)\n",
    "model1 = xgb.train(params=param_final, dtrain=data_train1, num_boost_round=40)\n",
    "Y1_pred_test = model1.predict(xgb.DMatrix(X1_test))\n",
    "Y1_pred_train = model1.predict(xgb.DMatrix(X1_train))\n",
    "print(' R2_outofsample :{}, R2_insample: {}'.format( r2_score(Y1_test,Y1_pred_test,weight1_test), r2_score(Y1_train, Y1_pred_train,weight1_train ) ))\n",
    "\n"
   ]
  },
  {
   "cell_type": "code",
   "execution_count": null,
   "metadata": {
    "collapsed": true
   },
   "outputs": [],
   "source": []
  }
 ],
 "metadata": {
  "kernelspec": {
   "display_name": "Python 3",
   "language": "python",
   "name": "python3"
  },
  "language_info": {
   "codemirror_mode": {
    "name": "ipython",
    "version": 3
   },
   "file_extension": ".py",
   "mimetype": "text/x-python",
   "name": "python",
   "nbconvert_exporter": "python",
   "pygments_lexer": "ipython3",
   "version": "3.6.0"
  }
 },
 "nbformat": 4,
 "nbformat_minor": 2
}
